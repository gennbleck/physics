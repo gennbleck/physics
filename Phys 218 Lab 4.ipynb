{
 "cells": [
  {
   "cell_type": "code",
   "execution_count": 44,
   "metadata": {},
   "outputs": [
    {
     "name": "stdout",
     "output_type": "stream",
     "text": [
      "12\n"
     ]
    },
    {
     "data": {
      "image/png": "[encoded data removed]",
      "text/plain": [
       "<Figure size 1080x720 with 1 Axes>"
      ]
     },
     "metadata": {
      "needs_background": "light"
     },
     "output_type": "display_data"
    }
   ],
   "source": [
    "from __future__ import division\n",
    "%matplotlib inline\n",
    "#Import packages and libraries needed and give them shortcut names\n",
    "\n",
    "import numpy as np\n",
    "import matplotlib.pyplot as plt\n",
    "\n",
    "#-------------------------------------------#\n",
    "#Data Section - Create Arrays for data. Perform necessary calculations\n",
    "#CHANGE THE VARIABLE NAMES and numbers to match your data\n",
    "xvariable_lnrmid = np.array([-2.695627681, -2.772588722, -2.855970331, -2.946942109, -3.047025568, -3.158251203, -3.283414346, -3.42651519, -3.593569274, -3.79423997, -4.045554398, -4.382026635]) #what are units?\n",
    "yvariable_lnE = np.array([3.912023005, 3.526360525, 2.48490665, 3.737669618, 4.158883083, 2.995732274, 5.856789644, 0.639746404, 4.477336814, 4.741447804, 4.384523515, 6.089498287]) #what are units?\n",
    "\n",
    "print(len(xvariable_lnrmid))\n",
    "\n",
    "#--------------------------------------------#\n",
    "#Create arrays for uncertainties\n",
    "#CHANGE THE VARIABLE NAME and numbers to match your data \n",
    "err_yvariable_lnE = np.array([0.7922558, 1.018995251, 1.792095412, 0.890197847, 0.666902353, 1.387133705, 0.201105137, .2977, 0.528536745, 0.433388369, 0.566158175, 0.179497947])\n",
    "\n",
    "\n",
    "#--------------------------------------------#\n",
    "#Re-assign variables as x, y, dy so that the following code may remain generic\n",
    "\n",
    "x = xvariable_lnrmid   #this should be the array you want to plot on the x axis\n",
    "y = yvariable_lnE\n",
    "dy = err_yvariable_lnE  #this should be your error in y array\n",
    "\n",
    "#----------------------------------------------#\n",
    "#Don't need to change anything in this section!\n",
    "\n",
    "#Find the intercept and slope, b and m, from Python's polynomial fitting function\n",
    "b,m=np.polynomial.polynomial.polyfit(x,y,1,w=dy)\n",
    "\n",
    "#Write the equation for the best fit line based on the slope and intercept\n",
    "fit = b+m*x\n",
    "\n",
    "#Calculate the error in slope and intercept \n",
    "#def Delta(x, dy) is a function, and we will learn how to write our own at a later date. They are very useful!\n",
    "\n",
    "def Delta(x, dy):\n",
    "    D = (sum(1/dy**2))*(sum(x**2/dy**2))-(sum(x/dy**2))**2\n",
    "    return D\n",
    " \n",
    "D=Delta(x, dy)\n",
    " \n",
    "dm = np.sqrt(1/D*sum(1/dy**2)) #error in slope\n",
    "db = np.sqrt(1/D*sum(x**2/dy**2)) #error in intercept\n",
    "\n",
    "#Calculate the \"goodness of fit\" from the linear least squares fitting document\n",
    "def LLSFD2(x,y,dy):\n",
    "    N = sum(((y-b-m*x)/dy)**2)\n",
    "    return N\n",
    "                      \n",
    "N = LLSFD2(x,y,dy)\n",
    "\n",
    "#-----------------------------------------------------------------------#\n",
    "#Plot data on graph. Plot error bars and place values for slope, error in slope and goodness of fit on the plot using \"annotate\"\n",
    "plt.figure(figsize=(15,10))\n",
    " \n",
    "plt.plot(x, fit, color='green', linestyle='--')\n",
    "plt.scatter(x, y, color='blue', marker='o')\n",
    " \n",
    " \n",
    "#create labels  YOU NEED TO CHANGE THESE!!!\n",
    "plt.xlabel('ln(r mid/r0)')\n",
    "plt.ylabel('ln (E/E0)')\n",
    "plt.title('n')\n",
    " \n",
    "plt.errorbar(x, y, yerr=dy, xerr=None, fmt=\"none\") #don't need to plot x error bars\n",
    " \n",
    "plt.annotate('Slope = {value:.{digits}E}'.format(value=m, digits=2),\n",
    "             (0.05, 0.9), xycoords='axes fraction')\n",
    " \n",
    "plt.annotate('Error in Slope = {value:.{digits}E}'.format(value=dm, digits=1),\n",
    "             (0.05, 0.85), xycoords='axes fraction')\n",
    "plt.annotate('Goodness of fit = {value:.{digits}E}'.format(value=N, digits=2),\n",
    "             (0.05, 0.80), xycoords='axes fraction')\n",
    "\n",
    "plt.show()\n",
    "\n"
   ]
  },
  {
   "cell_type": "code",
   "execution_count": null,
   "metadata": {},
   "outputs": [],
   "source": [
    "def rule3 (vf3,vi3):\n",
    "    r3= np.sqrt((vf3**2+vi3**2))\n",
    "    return r3"
   ]
  },
  {
   "cell_type": "code",
   "execution_count": 20,
   "metadata": {},
   "outputs": [
    {
     "name": "stdout",
     "output_type": "stream",
     "text": [
      "Rule 3 Uncertainty in Delta V =  0.4242640687119285 V\n"
     ]
    }
   ],
   "source": [
    "vfinal = .3\n",
    "vin = .3\n",
    "\n",
    "rule3uncert = rule3(vfinal, vin)\n",
    "print (\"Rule 3 Uncertainty in Delta V = \", rule3uncert, \"V\")"
   ]
  },
  {
   "cell_type": "code",
   "execution_count": null,
   "metadata": {},
   "outputs": [],
   "source": [
    "def rule3 (rf3,ri3):\n",
    "    r3= np.sqrt((rf3**2+ri3**2))\n",
    "    return r3"
   ]
  },
  {
   "cell_type": "code",
   "execution_count": 19,
   "metadata": {},
   "outputs": [
    {
     "name": "stdout",
     "output_type": "stream",
     "text": [
      "Rule 3 Uncertainty in Delta r =  0.0007071067811865475 m\n"
     ]
    }
   ],
   "source": [
    "rfinal = .0005\n",
    "rin = .0005\n",
    "\n",
    "rule3uncert = rule3(rfinal, rin)\n",
    "print (\"Rule 3 Uncertainty in Delta r = \", rule3uncert, \"m\")"
   ]
  },
  {
   "cell_type": "code",
   "execution_count": null,
   "metadata": {},
   "outputs": [],
   "source": [
    "def rule4 (Er,udV,dV,udr,dr,):\n",
    "    r4= Er*np.sqrt ((udV/dV)**2+(udr/dr)**2)\n",
    "    return r4\n",
    "    "
   ]
  },
  {
   "cell_type": "code",
   "execution_count": 21,
   "metadata": {},
   "outputs": [
    {
     "name": "stdout",
     "output_type": "stream",
     "text": [
      "Rule 4 Uncertainty in E(r)  =  0.6139018726830914 V/m\n"
     ]
    }
   ],
   "source": [
    "Er = 50\n",
    "udeltaV = .00001\n",
    "deltaV = .00082\n",
    "udeltar = .001\n",
    "deltar = .702\n",
    "\n",
    "rule4uncert = rule4 (Er, udeltaV, deltaV, udeltar, deltar)\n",
    "print (\"Rule 4 Uncertainty in E(r)  = \", rule4uncert,\"V/m\")"
   ]
  },
  {
   "cell_type": "code",
   "execution_count": 22,
   "metadata": {},
   "outputs": [
    {
     "name": "stdout",
     "output_type": "stream",
     "text": [
      "Rule 4 Uncertainty in E(r)  =  0.4174532734245021 V/m\n"
     ]
    }
   ],
   "source": [
    "Er = 34\n",
    "udeltaV = .00001\n",
    "deltaV = .00082\n",
    "udeltar = .001\n",
    "deltar = .702\n",
    "\n",
    "rule4uncert = rule4 (Er, udeltaV, deltaV, udeltar, deltar)\n",
    "print (\"Rule 4 Uncertainty in E(r)  = \", rule4uncert,\"V/m\")"
   ]
  },
  {
   "cell_type": "code",
   "execution_count": 23,
   "metadata": {},
   "outputs": [
    {
     "name": "stdout",
     "output_type": "stream",
     "text": [
      "Rule 4 Uncertainty in E(r)  =  0.14733644944394192 V/m\n"
     ]
    }
   ],
   "source": [
    "Er = 12\n",
    "udeltaV = .00001\n",
    "deltaV = .00082\n",
    "udeltar = .001\n",
    "deltar = .702\n",
    "\n",
    "rule4uncert = rule4 (Er, udeltaV, deltaV, udeltar, deltar)\n",
    "print (\"Rule 4 Uncertainty in E(r)  = \", rule4uncert,\"V/m\")"
   ]
  },
  {
   "cell_type": "code",
   "execution_count": 24,
   "metadata": {},
   "outputs": [
    {
     "name": "stdout",
     "output_type": "stream",
     "text": [
      "Rule 4 Uncertainty in E(r)  =  0.5156775730537967 V/m\n"
     ]
    }
   ],
   "source": [
    "Er = 42\n",
    "udeltaV = .00001\n",
    "deltaV = .00082\n",
    "udeltar = .001\n",
    "deltar = .702\n",
    "\n",
    "rule4uncert = rule4 (Er, udeltaV, deltaV, udeltar, deltar)\n",
    "print (\"Rule 4 Uncertainty in E(r)  = \", rule4uncert,\"V/m\")"
   ]
  },
  {
   "cell_type": "code",
   "execution_count": 25,
   "metadata": {},
   "outputs": [
    {
     "name": "stdout",
     "output_type": "stream",
     "text": [
      "Rule 4 Uncertainty in E(r)  =  0.7857943970343569 V/m\n"
     ]
    }
   ],
   "source": [
    "Er = 64\n",
    "udeltaV = .00001\n",
    "deltaV = .00082\n",
    "udeltar = .001\n",
    "deltar = .702\n",
    "\n",
    "rule4uncert = rule4 (Er, udeltaV, deltaV, udeltar, deltar)\n",
    "print (\"Rule 4 Uncertainty in E(r)  = \", rule4uncert,\"V/m\")"
   ]
  },
  {
   "cell_type": "code",
   "execution_count": 30,
   "metadata": {},
   "outputs": [
    {
     "name": "stdout",
     "output_type": "stream",
     "text": [
      "Rule 4 Uncertainty in E(r)  =  0.24556074907323655 V/m\n"
     ]
    }
   ],
   "source": [
    "Er = 20\n",
    "udeltaV = .00001\n",
    "deltaV = .00082\n",
    "udeltar = .001\n",
    "deltar = .702\n",
    "\n",
    "rule4uncert = rule4 (Er, udeltaV, deltaV, udeltar, deltar)\n",
    "print (\"Rule 4 Uncertainty in E(r)  = \", rule4uncert,\"V/m\")"
   ]
  },
  {
   "cell_type": "code",
   "execution_count": 32,
   "metadata": {},
   "outputs": [
    {
     "name": "stdout",
     "output_type": "stream",
     "text": [
      "Rule 4 Uncertainty in E(r)  =  4.292401893800175 V/m\n"
     ]
    }
   ],
   "source": [
    "Er = 349.6\n",
    "udeltaV = .00001\n",
    "deltaV = .00082\n",
    "udeltar = .001\n",
    "deltar = .702\n",
    "\n",
    "rule4uncert = rule4 (Er, udeltaV, deltaV, udeltar, deltar)\n",
    "print (\"Rule 4 Uncertainty in E(r)  = \", rule4uncert,\"V/m\")"
   ]
  },
  {
   "cell_type": "code",
   "execution_count": 37,
   "metadata": {},
   "outputs": [
    {
     "name": "stdout",
     "output_type": "stream",
     "text": [
      "Rule 4 Uncertainty in E(r)  =  2.3279159012142823 V/m\n"
     ]
    }
   ],
   "source": [
    "Er = 189.6\n",
    "udeltaV = .00001\n",
    "deltaV = .00082\n",
    "udeltar = .001\n",
    "deltar = .702\n",
    "\n",
    "rule4uncert = rule4 (Er, udeltaV, deltaV, udeltar, deltar)\n",
    "print (\"Rule 4 Uncertainty in E(r)  = \", rule4uncert,\"V/m\")"
   ]
  },
  {
   "cell_type": "code",
   "execution_count": 38,
   "metadata": {},
   "outputs": [
    {
     "name": "stdout",
     "output_type": "stream",
     "text": [
      "Rule 4 Uncertainty in E(r)  =  1.0804672959222408 V/m\n"
     ]
    }
   ],
   "source": [
    "Er = 88\n",
    "udeltaV = .00001\n",
    "deltaV = .00082\n",
    "udeltar = .001\n",
    "deltar = .702\n",
    "\n",
    "rule4uncert = rule4 (Er, udeltaV, deltaV, udeltar, deltar)\n",
    "print (\"Rule 4 Uncertainty in E(r)  = \", rule4uncert,\"V/m\")"
   ]
  },
  {
   "cell_type": "code",
   "execution_count": 39,
   "metadata": {},
   "outputs": [
    {
     "name": "stdout",
     "output_type": "stream",
     "text": [
      "Rule 4 Uncertainty in E(r)  =  1.4070630921896454 V/m\n"
     ]
    }
   ],
   "source": [
    "Er = 114.6\n",
    "udeltaV = .00001\n",
    "deltaV = .00082\n",
    "udeltar = .001\n",
    "deltar = .702\n",
    "\n",
    "rule4uncert = rule4 (Er, udeltaV, deltaV, udeltar, deltar)\n",
    "print (\"Rule 4 Uncertainty in E(r)  = \", rule4uncert,\"V/m\")"
   ]
  },
  {
   "cell_type": "code",
   "execution_count": 40,
   "metadata": {},
   "outputs": [
    {
     "name": "stdout",
     "output_type": "stream",
     "text": [
      "Rule 4 Uncertainty in E(r)  =  0.9846986037836786 V/m\n"
     ]
    }
   ],
   "source": [
    "Er = 80.2\n",
    "udeltaV = .00001\n",
    "deltaV = .00082\n",
    "udeltar = .001\n",
    "deltar = .702\n",
    "\n",
    "rule4uncert = rule4 (Er, udeltaV, deltaV, udeltar, deltar)\n",
    "print (\"Rule 4 Uncertainty in E(r)  = \", rule4uncert,\"V/m\")"
   ]
  },
  {
   "cell_type": "code",
   "execution_count": 41,
   "metadata": {},
   "outputs": [
    {
     "name": "stdout",
     "output_type": "stream",
     "text": [
      "Rule 4 Uncertainty in E(r)  =  5.417070124555598 V/m\n"
     ]
    }
   ],
   "source": [
    "Er = 441.2\n",
    "udeltaV = .00001\n",
    "deltaV = .00082\n",
    "udeltar = .001\n",
    "deltar = .702\n",
    "\n",
    "rule4uncert = rule4 (Er, udeltaV, deltaV, udeltar, deltar)\n",
    "print (\"Rule 4 Uncertainty in E(r)  = \", rule4uncert,\"V/m\")"
   ]
  },
  {
   "cell_type": "code",
   "execution_count": null,
   "metadata": {},
   "outputs": [],
   "source": []
  }
 ],
 "metadata": {
  "kernelspec": {
   "display_name": "Python 3",
   "language": "python",
   "name": "python3"
  },
  "language_info": {
   "codemirror_mode": {
    "name": "ipython",
    "version": 3
   },
   "file_extension": ".py",
   "mimetype": "text/x-python",
   "name": "python",
   "nbconvert_exporter": "python",
   "pygments_lexer": "ipython3",
   "version": "3.7.4"
  }
 },
 "nbformat": 4,
 "nbformat_minor": 2
}
